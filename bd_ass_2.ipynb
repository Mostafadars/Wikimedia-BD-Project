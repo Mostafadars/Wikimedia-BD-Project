{
  "cells": [
    {
      "cell_type": "markdown",
      "metadata": {
        "id": "view-in-github",
        "colab_type": "text"
      },
      "source": [
        "<a href=\"https://colab.research.google.com/github/Mostafadars/Wikimedia-BD-Project/blob/main/bd_ass_2.ipynb\" target=\"_parent\"><img src=\"https://colab.research.google.com/assets/colab-badge.svg\" alt=\"Open In Colab\"/></a>"
      ]
    },
    {
      "cell_type": "markdown",
      "metadata": {
        "id": "77ufBFHe5p9-"
      },
      "source": [
        "# ***Install the PySpark Package***"
      ]
    },
    {
      "cell_type": "code",
      "execution_count": null,
      "metadata": {
        "id": "8McmTDZwadDQ"
      },
      "outputs": [],
      "source": [
        "#pip install pyspark"
      ]
    },
    {
      "cell_type": "markdown",
      "metadata": {
        "id": "-piq32Sh5p-H"
      },
      "source": [
        "# **Run This if you work on the Google Colab**"
      ]
    },
    {
      "cell_type": "code",
      "execution_count": null,
      "metadata": {
        "colab": {
          "base_uri": "https://localhost:8080/"
        },
        "id": "F5difnAVaieJ",
        "outputId": "492de92d-c4af-423d-cf6d-ed841375ebaa"
      },
      "outputs": [
        {
          "output_type": "stream",
          "name": "stdout",
          "text": [
            "Drive already mounted at /content/drive; to attempt to forcibly remount, call drive.mount(\"/content/drive\", force_remount=True).\n"
          ]
        }
      ],
      "source": [
        "from google.colab import drive\n",
        "drive.mount('/content/drive')"
      ]
    },
    {
      "cell_type": "markdown",
      "metadata": {
        "id": "ydpDJJJf5p-I"
      },
      "source": [
        "# ***Import Spark Modules***"
      ]
    },
    {
      "cell_type": "code",
      "execution_count": null,
      "metadata": {
        "id": "-u50JqnZaowR"
      },
      "outputs": [],
      "source": [
        "\n",
        "from pyspark import SparkContext\n",
        "import time\n",
        "import re\n"
      ]
    },
    {
      "cell_type": "markdown",
      "metadata": {
        "id": "Garsuebn5p-K"
      },
      "source": [
        "# ***Initialize The Spark Session and Read the Data***"
      ]
    },
    {
      "cell_type": "code",
      "execution_count": null,
      "metadata": {
        "id": "_jovBJeXanmZ"
      },
      "outputs": [],
      "source": [
        "# Initialize Spark session\n",
        "sc = SparkContext(appName=\"WikimediaPageViews\")\n",
        "\n",
        "# Uncomment the line below if you work on google colab\n",
        "# Example path: \"/content/drive/MyDrive/Big Data Ass 2/pagecounts-20160101-000000_parsed.out\"\n",
        "data_path = \"/content/drive/MyDrive/pagecounts-20160101-000000_parsed.out\"\n",
        "\n",
        "# Uncomment the line below if you work on local\n",
        "#data_path = \"./pagecounts-20160101-000000_parsed.out\"\n",
        "\n",
        "lines = sc.textFile(data_path)"
      ]
    },
    {
      "cell_type": "code",
      "execution_count": null,
      "metadata": {
        "id": "F_4rD8K15p-L"
      },
      "outputs": [],
      "source": [
        "# Load and parse the data\n",
        "def parse_line(line):\n",
        "    parts = line.strip().split(' ')\n",
        "    if len(parts) < 4:\n",
        "        return None\n",
        "    project, title, hits, size = parts[0], parts[1], int(parts[2]), int(parts[3])\n",
        "    return (project, title, hits, size)"
      ]
    },
    {
      "cell_type": "code",
      "execution_count": null,
      "metadata": {
        "id": "ZAj8599_5p-L"
      },
      "outputs": [],
      "source": [
        "parsed = lines.map(parse_line).filter(lambda x: x is not None)"
      ]
    },
    {
      "cell_type": "markdown",
      "metadata": {
        "id": "ssJtS_eTazdp"
      },
      "source": [
        "# ***Function 1: Compute min, max, and average page size***"
      ]
    },
    {
      "cell_type": "code",
      "execution_count": null,
      "metadata": {
        "colab": {
          "base_uri": "https://localhost:8080/"
        },
        "id": "RV_Ic31S5p-M",
        "outputId": "3b6d88c3-04e8-44d3-c056-a6b00481e0f7"
      },
      "outputs": [
        {
          "output_type": "stream",
          "name": "stdout",
          "text": [
            "Start time: 1747382962.4384491\n",
            "End time: 1747383008.8927279\n",
            "Min Page Size: 0\n",
            "Max Page Size: 141180155987\n",
            "Average Page Size: 132239.57\n"
          ]
        }
      ],
      "source": [
        "# Function_1 - Spark Map Reduce\n",
        "\n",
        "def function_1_map_reduce(parsed_rdd):\n",
        "    start = time.time()\n",
        "    print(f\"Start time: {start}\")\n",
        "\n",
        "    # Extract page sizes\n",
        "    page_sizes = parsed_rdd.map(lambda x: x[3])  # x[3] is page size\n",
        "\n",
        "    # MapReduce operations\n",
        "    min_size = page_sizes.min()\n",
        "    max_size = page_sizes.max()\n",
        "\n",
        "    total_size = page_sizes.sum()\n",
        "    count = page_sizes.count()\n",
        "    avg_size = total_size / count if count > 0 else 0\n",
        "\n",
        "    end = time.time()\n",
        "    print(f\"End time: {end}\")\n",
        "\n",
        "    print(f\"Min Page Size: {min_size}\")\n",
        "    print(f\"Max Page Size: {max_size}\")\n",
        "    print(f\"Average Page Size: {avg_size:.2f}\")\n",
        "\n",
        "\n",
        "# running function 1\n",
        "function_1_map_reduce(parsed)"
      ]
    },
    {
      "cell_type": "code",
      "execution_count": null,
      "metadata": {
        "colab": {
          "base_uri": "https://localhost:8080/"
        },
        "id": "o-1YbSC65p-N",
        "outputId": "4131382e-0d11-4b8a-9b2d-d10096efb38c"
      },
      "outputs": [
        {
          "output_type": "stream",
          "name": "stdout",
          "text": [
            "\n",
            "Q1 Spark foreach\n",
            "Start Time: 1747383008.9113514\n",
            "End Time: 1747383032.1261582\n",
            "Min page size: 0\n",
            "Max page size: 141180155987\n",
            "Average page size: 132239.57\n",
            "Time: 23.2148 seconds\n"
          ]
        }
      ],
      "source": [
        "# Function_1 - Spark Loops\n",
        "def function_1_spark_loop(rdd):\n",
        "    print(\"\\nQ1 Spark foreach\")\n",
        "    start = time.time()\n",
        "    print(f\"Start Time: {start}\")\n",
        "\n",
        "    sum_size = sc.accumulator(0)\n",
        "    count = sc.accumulator(0)\n",
        "\n",
        "    min_size = float('inf')\n",
        "    max_size = float('-inf')\n",
        "\n",
        "    def update_stats(x):\n",
        "        size = x[3]\n",
        "        sum_size.add(size)\n",
        "        count.add(1)\n",
        "        return size\n",
        "\n",
        "    rdd.foreach(update_stats)\n",
        "\n",
        "    sizes = rdd.map(lambda x: x[3]).collect()\n",
        "    min_size = min(sizes)\n",
        "    max_size = max(sizes)\n",
        "\n",
        "    end = time.time()\n",
        "    print(f\"End Time: {end}\")\n",
        "    print(f\"Min page size: {min_size}\")\n",
        "    print(f\"Max page size: {max_size}\")\n",
        "    print(f\"Average page size: {sum_size.value / count.value:.2f}\")\n",
        "    print(f\"Time: {end - start:.4f} seconds\")\n",
        "\n",
        "function_1_spark_loop(parsed)"
      ]
    },
    {
      "cell_type": "code",
      "execution_count": null,
      "metadata": {
        "colab": {
          "base_uri": "https://localhost:8080/"
        },
        "id": "VjYbpKJn5p-N",
        "outputId": "797a9752-63a7-414c-b392-26689fb2e688"
      },
      "outputs": [
        {
          "output_type": "stream",
          "name": "stdout",
          "text": [
            "Minimum page title size: 0\n",
            "Maximum page title size: 141180155987\n",
            "Average page title size: 132239.56957446598\n",
            "Elapsed time: 15.96462106704712 seconds\n"
          ]
        }
      ],
      "source": [
        "# Function_1 - Normal Loops\n",
        "def function_1_normal_loop(rdd):\n",
        "    start_time = time.time()\n",
        "    min_page_title = float('inf')\n",
        "    max_page_title = float('-inf')\n",
        "    sum_page_title = 0\n",
        "    count = 0\n",
        "\n",
        "    for _, _, _, value in rdd.toLocalIterator():\n",
        "        if value < min_page_title:\n",
        "            min_page_title = value\n",
        "\n",
        "        if value > max_page_title:\n",
        "            max_page_title = value\n",
        "\n",
        "        sum_page_title += value\n",
        "        count += 1\n",
        "\n",
        "    avg_page_title = sum_page_title / count\n",
        "\n",
        "    print(\"Minimum page title size:\", min_page_title)\n",
        "    print(\"Maximum page title size:\", max_page_title)\n",
        "    print(\"Average page title size:\", avg_page_title)\n",
        "    end_time = time.time()\n",
        "    elapsed_time = end_time - start_time\n",
        "    print(\"Elapsed time:\", elapsed_time, \"seconds\")\n",
        "\n",
        "\n",
        "function_1_normal_loop(parsed)"
      ]
    },
    {
      "cell_type": "markdown",
      "metadata": {
        "id": "sMLwH3nBa4DI"
      },
      "source": [
        "# ***Function 2: Count page titles starting with \"The\" not in English project***"
      ]
    },
    {
      "cell_type": "code",
      "execution_count": null,
      "metadata": {
        "colab": {
          "base_uri": "https://localhost:8080/"
        },
        "id": "FZRTT9mqa84A",
        "outputId": "254d0f9c-34c7-49b1-c137-8e75dc118812"
      },
      "outputs": [
        {
          "output_type": "stream",
          "name": "stdout",
          "text": [
            "Start time: 1747383048.1531687\n",
            "End time: 1747383067.318152\n",
            "Total titles starting with 'The': 45020\n",
            "Titles starting with 'The' and NOT in English project: 10292\n"
          ]
        }
      ],
      "source": [
        "# Function_2 - Spark Map Reduce\n",
        "def function_2_map_reduce(parsed_rdd):\n",
        "    start = time.time()\n",
        "    print(f\"Start time: {start}\")\n",
        "\n",
        "    titles_with_the = parsed_rdd.filter(lambda x: x[1].startswith(\"The\")) # x[1] is title\n",
        "\n",
        "    count_titles_with_the = titles_with_the.count()\n",
        "\n",
        "    non_english_titles_with_the = titles_with_the.filter(lambda x: x[0] != \"en\") # x[0] is project code\n",
        "\n",
        "    # Count how many non-English titles start with \"The\"\n",
        "    count_non_english = non_english_titles_with_the.count()\n",
        "\n",
        "    end = time.time()\n",
        "    print(f\"End time: {end}\")\n",
        "\n",
        "    print(f\"Total titles starting with 'The': {count_titles_with_the}\")\n",
        "    print(f\"Titles starting with 'The' and NOT in English project: {count_non_english}\")\n",
        "\n",
        "\n",
        "# running function 2\n",
        "function_2_map_reduce(parsed)\n"
      ]
    },
    {
      "cell_type": "code",
      "execution_count": null,
      "metadata": {
        "colab": {
          "base_uri": "https://localhost:8080/"
        },
        "id": "ResjUqAj5p-Q",
        "outputId": "60f56810-4de9-42d6-ce52-4b6e1da41a30"
      },
      "outputs": [
        {
          "output_type": "stream",
          "name": "stdout",
          "text": [
            "\n",
            "Q2 Spark foreach\n",
            "Start Time: 1747383067.3315\n",
            "End Time: 1747383078.4114\n",
            "Titles starting with 'The': 45020\n",
            "Titles not in English: 10292\n",
            "Time: 11.0799 seconds\n"
          ]
        }
      ],
      "source": [
        "# Function_2 - Spark Loops\n",
        "def function_2_spark_loop(rdd):\n",
        "    print(\"\\nQ2 Spark foreach\")\n",
        "    start = time.time()\n",
        "    print(f\"Start Time: {start:.4f}\")\n",
        "\n",
        "    total_count = sc.accumulator(0)\n",
        "    not_en_count = sc.accumulator(0)\n",
        "\n",
        "    def count_titles(x):\n",
        "        if x[1].startswith(\"The\"):\n",
        "            total_count.add(1)\n",
        "            if x[0] != \"en\":\n",
        "                not_en_count.add(1)\n",
        "\n",
        "    rdd.foreach(count_titles)\n",
        "\n",
        "    end = time.time()\n",
        "    print(f\"End Time: {end:.4f}\")\n",
        "    print(f\"Titles starting with 'The': {total_count.value}\")\n",
        "    print(f\"Titles not in English: {not_en_count.value}\")\n",
        "    print(f\"Time: {end - start:.4f} seconds\")\n",
        "\n",
        "\n",
        "function_2_spark_loop(parsed)"
      ]
    },
    {
      "cell_type": "code",
      "execution_count": null,
      "metadata": {
        "colab": {
          "base_uri": "https://localhost:8080/"
        },
        "id": "OB2aQAwn5p-R",
        "outputId": "8f107ace-71ee-41f8-8481-bb386fd3d628"
      },
      "outputs": [
        {
          "output_type": "stream",
          "name": "stdout",
          "text": [
            "\n",
            "Q2 Normal Loops\n",
            "Start Time: 1747383078.4223\n",
            "End Time: 1747383093.6348\n",
            "Titles starting with 'The': 45020\n",
            "Titles not in English: 10292\n",
            "Time: 15.2126 seconds\n"
          ]
        }
      ],
      "source": [
        "# Function_2 - Normal Loops\n",
        "def function_2_normal_loop(rdd):\n",
        "    print(\"\\nQ2 Normal Loops\")\n",
        "    total = 0\n",
        "    not_en = 0\n",
        "    start = time.time()\n",
        "    print(f\"Start Time: {start:.4f}\")\n",
        "\n",
        "    for x in rdd.toLocalIterator():\n",
        "        if x[1].startswith(\"The\"):\n",
        "            total += 1\n",
        "            if x[0] != \"en\":\n",
        "                not_en += 1\n",
        "\n",
        "    end = time.time()\n",
        "    print(f\"End Time: {end:.4f}\")\n",
        "    print(f\"Titles starting with 'The': {total}\")\n",
        "    print(f\"Titles not in English: {not_en}\")\n",
        "    print(f\"Time: {end - start:.4f} seconds\")\n",
        "\n",
        "\n",
        "function_2_normal_loop(parsed)"
      ]
    },
    {
      "cell_type": "markdown",
      "metadata": {
        "id": "hRsUVR6ya9LQ"
      },
      "source": [
        "# ***Function 3: Count unique terms in page titles***"
      ]
    },
    {
      "cell_type": "code",
      "execution_count": null,
      "metadata": {
        "colab": {
          "base_uri": "https://localhost:8080/"
        },
        "id": "Rflk32-bbBi5",
        "outputId": "df199463-6eb1-447a-fba5-227aa17028fe"
      },
      "outputs": [
        {
          "output_type": "stream",
          "name": "stdout",
          "text": [
            "\n",
            "Q3 Spark MapReduce\n",
            "Start Time: 1747383093.645378\n",
            "End Time: 1747383137.2551167\n",
            "Number of unique terms: 1688528\n",
            "Time: 43.6097 seconds\n"
          ]
        }
      ],
      "source": [
        "# Function_3 - Spark Map Reduce\n",
        "def function_3_map_reduce(parsed_rdd):\n",
        "    print(\"\\nQ3 Spark MapReduce\")\n",
        "\n",
        "    start = time.time()\n",
        "    print(f\"Start Time: {start}\")\n",
        "\n",
        "    unique_terms = (\n",
        "        parsed_rdd\n",
        "        .flatMap(lambda x: re.split(r'_', x[1].lower()))\n",
        "        .map(lambda term: re.sub(r'[^a-zA-Z0-9]', '', term))\n",
        "        .filter(lambda term: term != \"\")\n",
        "        .distinct()\n",
        "    )\n",
        "\n",
        "    count_unique = unique_terms.count()\n",
        "\n",
        "    end = time.time()\n",
        "    print(f\"End Time: {end}\")\n",
        "    print(f\"Number of unique terms: {count_unique}\")\n",
        "    print(f\"Time: {end - start:.4f} seconds\")\n",
        "\n",
        "function_3_map_reduce(parsed)\n"
      ]
    },
    {
      "cell_type": "code",
      "execution_count": null,
      "metadata": {
        "colab": {
          "base_uri": "https://localhost:8080/"
        },
        "id": "ymCWh26P5p-R",
        "outputId": "9ab7f82d-28fb-45d9-9fe6-0e986a5ed3fc"
      },
      "outputs": [
        {
          "output_type": "stream",
          "name": "stdout",
          "text": [
            "\n",
            "Q3 Spark foreach\n",
            "Start Time: 1747383137.265265\n",
            "End Time: 1747383156.082223\n",
            "Number of unique terms: 1793113\n",
            "Time: 18.8170 seconds\n"
          ]
        }
      ],
      "source": [
        "# Function_3 - Spark Loops\n",
        "def function_3_spark_loop(rdd):\n",
        "    print(\"\\nQ3 Spark foreach\")\n",
        "    start = time.time()\n",
        "    print(f\"Start Time: {start}\")\n",
        "\n",
        "    all_terms = rdd.flatMap(lambda x: re.split(r'_', x[1].lower())).collect()\n",
        "\n",
        "    unique_terms = set(all_terms)\n",
        "\n",
        "    end = time.time()\n",
        "    print(f\"End Time: {end}\")\n",
        "    print(f\"Number of unique terms: {len(unique_terms)}\")\n",
        "    print(f\"Time: {end - start:.4f} seconds\")\n",
        "\n",
        "\n",
        "function_3_spark_loop(parsed)"
      ]
    },
    {
      "cell_type": "code",
      "execution_count": null,
      "metadata": {
        "colab": {
          "base_uri": "https://localhost:8080/"
        },
        "id": "3HgB0gZS5p-S",
        "outputId": "6d53fb98-003d-4443-cbd9-28b3c61056fe"
      },
      "outputs": [
        {
          "output_type": "stream",
          "name": "stdout",
          "text": [
            "\n",
            "Q3 Normal Loops\n",
            "Start Time: 1747383156.4555755\n",
            "End Time: 1747383184.9158494\n",
            "Unique terms: 1688529\n",
            "Time: 28.4603 seconds\n"
          ]
        }
      ],
      "source": [
        "# Function_3 - Normal Loops\n",
        "def function_3_normal_loop(rdd):\n",
        "    print(\"\\nQ3 Normal Loops\")\n",
        "    start = time.time()\n",
        "    print(f\"Start Time: {start}\")\n",
        "\n",
        "    terms = set()\n",
        "    for x in rdd.toLocalIterator():\n",
        "        for term in re.split(r'_', x[1].lower()):\n",
        "            terms.add(re.sub(r'[^a-zA-Z0-9]', '', term))\n",
        "\n",
        "    end = time.time()\n",
        "    print(f\"End Time: {end}\")\n",
        "    print(f\"Unique terms: {len(terms)}\")\n",
        "    print(f\"Time: {end - start:.4f} seconds\")\n",
        "\n",
        "\n",
        "function_3_normal_loop(parsed)"
      ]
    },
    {
      "cell_type": "markdown",
      "metadata": {
        "id": "o0a7JSPobDHI"
      },
      "source": [
        "# ***Function 4: Extract title counts***"
      ]
    },
    {
      "cell_type": "code",
      "execution_count": null,
      "metadata": {
        "colab": {
          "base_uri": "https://localhost:8080/"
        },
        "id": "J5luedl8bBDZ",
        "outputId": "835a5ab0-b558-4264-ba5b-4317194592ff"
      },
      "outputs": [
        {
          "output_type": "stream",
          "name": "stdout",
          "text": [
            "\n",
            "Q4 Spark MapReduce\n",
            "Start Time: 1747383185.0610638\n",
            "End Time: 1747383205.7255986\n",
            "First 5 title counts:\n",
            "Indonesian_Wikipedia: 2\n",
            "Special:MyLanguage/Meta:Index: 1\n",
            "Special:WhatLinksHere/Main_Page: 8\n",
            "Special:WhatLinksHere/MediaWiki:Edittools: 1\n",
            "User:IlStudioso: 1\n",
            "Time: 20.6645 seconds\n"
          ]
        }
      ],
      "source": [
        "# Function_4 - Spark Map Reduce\n",
        "def function_4_map_reduce(parsed_rdd):\n",
        "    print(\"\\nQ4 Spark MapReduce\")\n",
        "    import time\n",
        "\n",
        "    start = time.time()\n",
        "    print(f\"Start Time: {start}\")\n",
        "\n",
        "    title_counts = (\n",
        "        parsed_rdd\n",
        "        .map(lambda x: (x[1], 1))\n",
        "        .reduceByKey(lambda a, b: a + b)\n",
        "    )\n",
        "\n",
        "    results = title_counts.take(5)\n",
        "\n",
        "    end = time.time()\n",
        "    print(f\"End Time: {end}\")\n",
        "    print(\"First 5 title counts:\")\n",
        "    for title, count in results:\n",
        "        print(f\"{title}: {count}\")\n",
        "    print(f\"Time: {end - start:.4f} seconds\")\n",
        "\n",
        "function_4_map_reduce(parsed)"
      ]
    },
    {
      "cell_type": "code",
      "execution_count": null,
      "metadata": {
        "colab": {
          "base_uri": "https://localhost:8080/"
        },
        "id": "LuY9EItf5p-T",
        "outputId": "c4606152-716d-4ffe-d9b4-9ff0f9224d19"
      },
      "outputs": [
        {
          "output_type": "stream",
          "name": "stdout",
          "text": [
            "\n",
            "Q4 Spark foreach\n",
            "Start Time: 1747383205.7440257\n",
            "End Time: 1747383220.9278905\n",
            "First 5 title counts:\n",
            "271_a.C: 4\n",
            "Category:User_th: 2\n",
            "Chiron_Elias_Krase: 6\n",
            "Dassault_rafaele: 3\n",
            "E.Desv: 6\n",
            "Time: 15.1839 seconds\n"
          ]
        }
      ],
      "source": [
        "# Function_4 - Spark Loops\n",
        "def function_4_spark_loop(rdd):\n",
        "    print(\"\\nQ4 Spark foreach\")\n",
        "    start = time.time()\n",
        "    print(f\"Start Time: {start}\")\n",
        "\n",
        "    title_counts = rdd.map(lambda x: (x[1], 1)).collect()\n",
        "\n",
        "    counts = {}\n",
        "    for title, count in title_counts:\n",
        "        counts[title] = counts.get(title, 0) + count\n",
        "\n",
        "    end = time.time()\n",
        "    print(f\"End Time: {end}\")\n",
        "    print(\"First 5 title counts:\")\n",
        "    for i, (title, count) in enumerate(list(counts.items())[:5]):\n",
        "        print(f\"{title}: {count}\")\n",
        "    print(f\"Time: {end - start:.4f} seconds\")\n",
        "\n",
        "\n",
        "function_4_spark_loop(parsed)"
      ]
    },
    {
      "cell_type": "code",
      "execution_count": null,
      "metadata": {
        "colab": {
          "base_uri": "https://localhost:8080/"
        },
        "id": "0d9oq4EU5p-T",
        "outputId": "93796956-1f6a-45bf-f413-0ded64c6549f"
      },
      "outputs": [
        {
          "output_type": "stream",
          "name": "stdout",
          "text": [
            "\n",
            "Q4 Normal Loops\n",
            "Start Time: 1747383221.7312584\n",
            "End Time: 1747383238.4559064\n",
            "End Time: 1747383238.9977074\n",
            "First 5 title counts:\n",
            "271_a.C: 4\n",
            "Category:User_th: 2\n",
            "Chiron_Elias_Krase: 6\n",
            "Dassault_rafaele: 3\n",
            "E.Desv: 6\n",
            "Time: 17.2664 seconds\n"
          ]
        }
      ],
      "source": [
        "# Function_4 - Normal Loops\n",
        "def function_4_normal_loop(rdd):\n",
        "    print(\"\\nQ4 Normal Loops\")\n",
        "    start = time.time()\n",
        "    print(f\"Start Time: {start}\")\n",
        "\n",
        "    counts = {}\n",
        "    for x in rdd.toLocalIterator():\n",
        "        counts[x[1]] = counts.get(x[1], 0) + 1\n",
        "\n",
        "    end = time.time()\n",
        "    print(f\"End Time: {end}\")\n",
        "\n",
        "    results = list(counts.items())[:5]\n",
        "    end = time.time()\n",
        "    print(f\"End Time: {end}\")\n",
        "    print(\"First 5 title counts:\")\n",
        "    for title, count in results:\n",
        "        print(f\"{title}: {count}\")\n",
        "    print(f\"Time: {end - start:.4f} seconds\")\n",
        "\n",
        "\n",
        "function_4_normal_loop(parsed)"
      ]
    },
    {
      "cell_type": "markdown",
      "metadata": {
        "id": "BfLJIKY-bEAA"
      },
      "source": [
        "# ***Function 5: Combine pages with same title***"
      ]
    },
    {
      "cell_type": "code",
      "execution_count": null,
      "metadata": {
        "colab": {
          "base_uri": "https://localhost:8080/"
        },
        "id": "_L08xcGvbEh5",
        "outputId": "a43047fa-5bf0-45b1-baa1-bf60a85732ec"
      },
      "outputs": [
        {
          "output_type": "stream",
          "name": "stdout",
          "text": [
            "\n",
            "Q5 Spark MapReduce\n",
            "Start Time: 1747383239.107877\n",
            "End Time: 1747383267.8825572\n",
            "First 5 titles with multiple pages:\n",
            "\n",
            "Title: Indonesian_Wikipedia\n",
            "Pages:\n",
            "  Project: aa, Hits: 1, Size: 4679\n",
            "  Project: en, Hits: 1, Size: 93905\n",
            "\n",
            "Title: Special:WhatLinksHere/Main_Page\n",
            "Pages:\n",
            "  Project: aa, Hits: 1, Size: 5556\n",
            "  Project: commons.m, Hits: 2, Size: 15231\n",
            "  Project: en, Hits: 5, Size: 101406\n",
            "  Project: en.s, Hits: 1, Size: 8597\n",
            "  Project: en.voy, Hits: 1, Size: 8550\n",
            "  Project: meta.m, Hits: 1, Size: 11529\n",
            "  Project: outreach.m, Hits: 1, Size: 5698\n",
            "  Project: simple, Hits: 3, Size: 32145\n",
            "\n",
            "Title: User_talk:Logan\n",
            "Pages:\n",
            "  Project: aa, Hits: 1, Size: 4734\n",
            "  Project: en.voy, Hits: 5, Size: 78175\n",
            "\n",
            "Title: Special:UserLogin\n",
            "Pages:\n",
            "  Project: aa.d, Hits: 1, Size: 4899\n",
            "  Project: commons.m, Hits: 30, Size: 181938\n",
            "  Project: en, Hits: 44198, Size: 718770014\n",
            "  Project: en.q, Hits: 4, Size: 34449\n",
            "  Project: incubator.m, Hits: 1, Size: 5221\n",
            "  Project: m.f, Hits: 13, Size: 58547\n",
            "  Project: m.w, Hits: 3, Size: 12523\n",
            "  Project: m.wd, Hits: 2, Size: 8696\n",
            "  Project: meta.m, Hits: 1, Size: 5311\n",
            "  Project: simple, Hits: 2, Size: 9960\n",
            "  Project: ss, Hits: 1, Size: 5052\n",
            "  Project: www.w, Hits: 5, Size: 49952\n",
            "  Project: www.wd, Hits: 1, Size: 4989\n",
            "\n",
            "Title: User:CommonsDelinker\n",
            "Pages:\n",
            "  Project: aa.d, Hits: 1, Size: 23375\n",
            "  Project: meta.m, Hits: 1, Size: 9445\n",
            "Time: 28.7747 seconds\n"
          ]
        }
      ],
      "source": [
        "# Function_5 - Spark Map Reduce\n",
        "def function_5_map_reduce(parsed_rdd):\n",
        "    print(\"\\nQ5 Spark MapReduce\")\n",
        "    import time\n",
        "\n",
        "    start = time.time()\n",
        "    print(f\"Start Time: {start}\")\n",
        "\n",
        "    grouped_by_title = (\n",
        "        parsed_rdd\n",
        "        .map(lambda x: (x[1], [x]))\n",
        "        .reduceByKey(lambda a, b: a + b)\n",
        "        .filter(lambda x: len(x[1]) > 1)\n",
        "    )\n",
        "\n",
        "    results = grouped_by_title.take(5)\n",
        "\n",
        "    end = time.time()\n",
        "    print(f\"End Time: {end}\")\n",
        "    print(\"First 5 titles with multiple pages:\")\n",
        "    for title, records in results:\n",
        "        print(f\"\\nTitle: {title}\")\n",
        "        print(\"Pages:\")\n",
        "        for rec in records:\n",
        "            print(f\"  Project: {rec[0]}, Hits: {rec[2]}, Size: {rec[3]}\")\n",
        "    print(f\"Time: {end - start:.4f} seconds\")\n",
        "\n",
        "function_5_map_reduce(parsed)\n"
      ]
    },
    {
      "cell_type": "code",
      "execution_count": null,
      "metadata": {
        "colab": {
          "base_uri": "https://localhost:8080/"
        },
        "id": "P-wNJRoz5p-U",
        "outputId": "ce7718dc-d9f3-41b7-fded-c2897cc02df4"
      },
      "outputs": [
        {
          "output_type": "stream",
          "name": "stdout",
          "text": [
            "\n",
            "Q5 Spark foreach\n",
            "Start Time: 1747383267.8959599\n",
            "End Time: 1747383292.9264278\n",
            "First 5 titles with multiple pages:\n",
            "\n",
            "Title: 271_a.C\n",
            "Pages:\n",
            "  Project: aa, Hits: 1, Size: 4675\n",
            "  Project: az, Hits: 1, Size: 6356\n",
            "  Project: bcl, Hits: 1, Size: 5068\n",
            "  Project: be, Hits: 1, Size: 6287\n",
            "\n",
            "Title: Category:User_th\n",
            "Pages:\n",
            "  Project: aa, Hits: 1, Size: 4770\n",
            "  Project: commons.m, Hits: 1, Size: 0\n",
            "\n",
            "Title: Chiron_Elias_Krase\n",
            "Pages:\n",
            "  Project: aa, Hits: 1, Size: 4694\n",
            "  Project: az, Hits: 1, Size: 6374\n",
            "  Project: bg, Hits: 1, Size: 7468\n",
            "  Project: cho, Hits: 1, Size: 4684\n",
            "  Project: dz, Hits: 1, Size: 5435\n",
            "  Project: it, Hits: 1, Size: 5929\n",
            "\n",
            "Title: Dassault_rafaele\n",
            "Pages:\n",
            "  Project: aa, Hits: 2, Size: 9372\n",
            "  Project: en, Hits: 1, Size: 6649\n",
            "  Project: it, Hits: 1, Size: 5919\n",
            "\n",
            "Title: E.Desv\n",
            "Pages:\n",
            "  Project: aa, Hits: 1, Size: 4662\n",
            "  Project: arc, Hits: 1, Size: 5210\n",
            "  Project: ast, Hits: 1, Size: 4825\n",
            "  Project: fiu-vro, Hits: 1, Size: 5237\n",
            "  Project: fr, Hits: 1, Size: 7057\n",
            "  Project: ik, Hits: 1, Size: 4548\n",
            "Time: 25.0305 seconds\n"
          ]
        }
      ],
      "source": [
        "# Function_5 - Spark Loops\n",
        "def function_5_spark_loop(rdd):\n",
        "    print(\"\\nQ5 Spark foreach\")\n",
        "    start = time.time()\n",
        "    print(f\"Start Time: {start}\")\n",
        "\n",
        "    title_groups = rdd.map(lambda x: (x[1], x)).collect()\n",
        "\n",
        "    grouped = {}\n",
        "    for title, record in title_groups:\n",
        "        if title not in grouped:\n",
        "            grouped[title] = []\n",
        "        grouped[title].append(record)\n",
        "\n",
        "    multiple_pages = {k: v for k, v in grouped.items() if len(v) > 1}\n",
        "\n",
        "    end = time.time()\n",
        "    print(f\"End Time: {end}\")\n",
        "    print(\"First 5 titles with multiple pages:\")\n",
        "    for i, (title, pages) in enumerate(list(multiple_pages.items())[:5]):\n",
        "        print(f\"\\nTitle: {title}\")\n",
        "        print(\"Pages:\")\n",
        "        for page in pages:\n",
        "            print(f\"  Project: {page[0]}, Hits: {page[2]}, Size: {page[3]}\")\n",
        "    print(f\"Time: {end - start:.4f} seconds\")\n",
        "\n",
        "\n",
        "function_5_spark_loop(parsed)"
      ]
    },
    {
      "cell_type": "code",
      "execution_count": null,
      "metadata": {
        "colab": {
          "base_uri": "https://localhost:8080/"
        },
        "id": "u_3-rmmG5p-V",
        "outputId": "b8f71312-8837-41c1-b09a-452235cb6ed9"
      },
      "outputs": [
        {
          "output_type": "stream",
          "name": "stdout",
          "text": [
            "\n",
            "Q5 Normal Loops\n",
            "Start Time: 1747383294.4395084\n",
            "End Time: 1747383313.0385537\n",
            "First 5 titles with multiple pages:\n",
            "\n",
            "Title: 271_a.C\n",
            "Pages:\n",
            "  Project: aa, Hits: 1, Size: 4675\n",
            "  Project: az, Hits: 1, Size: 6356\n",
            "  Project: bcl, Hits: 1, Size: 5068\n",
            "  Project: be, Hits: 1, Size: 6287\n",
            "\n",
            "Title: Category:User_th\n",
            "Pages:\n",
            "  Project: aa, Hits: 1, Size: 4770\n",
            "  Project: commons.m, Hits: 1, Size: 0\n",
            "\n",
            "Title: Chiron_Elias_Krase\n",
            "Pages:\n",
            "  Project: aa, Hits: 1, Size: 4694\n",
            "  Project: az, Hits: 1, Size: 6374\n",
            "  Project: bg, Hits: 1, Size: 7468\n",
            "  Project: cho, Hits: 1, Size: 4684\n",
            "  Project: dz, Hits: 1, Size: 5435\n",
            "  Project: it, Hits: 1, Size: 5929\n",
            "\n",
            "Title: Dassault_rafaele\n",
            "Pages:\n",
            "  Project: aa, Hits: 2, Size: 9372\n",
            "  Project: en, Hits: 1, Size: 6649\n",
            "  Project: it, Hits: 1, Size: 5919\n",
            "\n",
            "Title: E.Desv\n",
            "Pages:\n",
            "  Project: aa, Hits: 1, Size: 4662\n",
            "  Project: arc, Hits: 1, Size: 5210\n",
            "  Project: ast, Hits: 1, Size: 4825\n",
            "  Project: fiu-vro, Hits: 1, Size: 5237\n",
            "  Project: fr, Hits: 1, Size: 7057\n",
            "  Project: ik, Hits: 1, Size: 4548\n",
            "Time: 18.5990 seconds\n"
          ]
        }
      ],
      "source": [
        "# Function_5 - Normal Loops\n",
        "def function_5_normal_loop(rdd):\n",
        "    print(\"\\nQ5 Normal Loops\")\n",
        "    start = time.time()\n",
        "    print(f\"Start Time: {start}\")\n",
        "\n",
        "    data = rdd.toLocalIterator()\n",
        "    grouped = {}\n",
        "    for x in data:\n",
        "        grouped.setdefault(x[1], []).append(x)\n",
        "    results = [(k, v) for k, v in grouped.items() if len(v) > 1][:5]\n",
        "\n",
        "    end = time.time()\n",
        "    print(f\"End Time: {end}\")\n",
        "    print(\"First 5 titles with multiple pages:\")\n",
        "    for title, pages in results:\n",
        "        print(f\"\\nTitle: {title}\")\n",
        "        print(\"Pages:\")\n",
        "        for page in pages:\n",
        "            print(f\"  Project: {page[0]}, Hits: {page[2]}, Size: {page[3]}\")\n",
        "    print(f\"Time: {end - start:.4f} seconds\")\n",
        "\n",
        "\n",
        "function_5_normal_loop(parsed)"
      ]
    },
    {
      "cell_type": "markdown",
      "metadata": {
        "id": "c_XT5lFp5p-V"
      },
      "source": [
        "# ***End The Spark Session***"
      ]
    },
    {
      "cell_type": "code",
      "execution_count": null,
      "metadata": {
        "id": "qQWO0XVpbnph"
      },
      "outputs": [],
      "source": [
        "# Stop Spark session\n",
        "sc.stop()"
      ]
    }
  ],
  "metadata": {
    "colab": {
      "provenance": [],
      "include_colab_link": true
    },
    "kernelspec": {
      "display_name": "Python 3",
      "name": "python3"
    },
    "language_info": {
      "codemirror_mode": {
        "name": "ipython",
        "version": 3
      },
      "file_extension": ".py",
      "mimetype": "text/x-python",
      "name": "python",
      "nbconvert_exporter": "python",
      "pygments_lexer": "ipython3",
      "version": "3.11.9"
    }
  },
  "nbformat": 4,
  "nbformat_minor": 0
}