{
  "cells": [
    {
      "cell_type": "markdown",
      "metadata": {},
      "source": [
        "# ***Install the PySpark Package***"
      ]
    },
    {
      "cell_type": "code",
      "execution_count": null,
      "metadata": {
        "colab": {
          "base_uri": "https://localhost:8080/"
        },
        "id": "8McmTDZwadDQ",
        "outputId": "b1257e0e-056d-4c13-f1e9-64ede30ca426"
      },
      "outputs": [],
      "source": [
        "#pip install pyspark"
      ]
    },
    {
      "cell_type": "markdown",
      "metadata": {},
      "source": [
        "# **Run This if you work on the Google Colab**"
      ]
    },
    {
      "cell_type": "code",
      "execution_count": null,
      "metadata": {
        "colab": {
          "base_uri": "https://localhost:8080/"
        },
        "id": "F5difnAVaieJ",
        "outputId": "e38bd2fc-a639-4a56-db22-1a701e090e32"
      },
      "outputs": [],
      "source": [
        "from google.colab import drive\n",
        "drive.mount('/content/drive')"
      ]
    },
    {
      "cell_type": "markdown",
      "metadata": {},
      "source": [
        "# ***Import Spark Modules***"
      ]
    },
    {
      "cell_type": "code",
      "execution_count": 59,
      "metadata": {
        "id": "-u50JqnZaowR"
      },
      "outputs": [],
      "source": [
        "\n",
        "from pyspark import SparkContext\n",
        "import time\n",
        "import re\n"
      ]
    },
    {
      "cell_type": "markdown",
      "metadata": {},
      "source": [
        "# ***Initialize The Spark Session and Read the Data***"
      ]
    },
    {
      "cell_type": "code",
      "execution_count": 60,
      "metadata": {
        "id": "_jovBJeXanmZ"
      },
      "outputs": [],
      "source": [
        "# Initialize Spark session\n",
        "sc = SparkContext(appName=\"WikimediaPageViews\")\n",
        "\n",
        "# Uncomment the line below if you work on google colab\n",
        "# Example path: \"/content/drive/MyDrive/Big Data Ass 2/pagecounts-20160101-000000_parsed.out\"\n",
        "# data_path = \"put-your-content-drive-path-to-the-input-file-here/pagecounts-20160101-000000_parsed.out\"\n",
        "\n",
        "# Uncomment the line below if you work on local\n",
        "data_path = \"./pagecounts-20160101-000000_parsed.out\"\n",
        "\n",
        "lines = sc.textFile(data_path)"
      ]
    },
    {
      "cell_type": "code",
      "execution_count": 61,
      "metadata": {},
      "outputs": [],
      "source": [
        "# Load and parse the data\n",
        "def parse_line(line):\n",
        "    parts = line.strip().split(' ')\n",
        "    if len(parts) < 4:\n",
        "        return None\n",
        "    project, title, hits, size = parts[0], parts[1], int(parts[2]), int(parts[3])\n",
        "    return (project, title, hits, size)"
      ]
    },
    {
      "cell_type": "code",
      "execution_count": 62,
      "metadata": {},
      "outputs": [],
      "source": [
        "parsed = lines.map(parse_line).filter(lambda x: x is not None)"
      ]
    },
    {
      "cell_type": "markdown",
      "metadata": {
        "id": "ssJtS_eTazdp"
      },
      "source": [
        "# ***Function 1: Compute min, max, and average page size***"
      ]
    },
    {
      "cell_type": "code",
      "execution_count": null,
      "metadata": {},
      "outputs": [
        {
          "name": "stdout",
          "output_type": "stream",
          "text": [
            "Min Page Size: 0\n",
            "Max Page Size: 141180155987\n",
            "Average Page Size: 132239.57\n"
          ]
        }
      ],
      "source": [
        "# Function_1 - Spark Map Reduce\n",
        "\n",
        "def function_1(parsed_rdd):\n",
        "    \n",
        "    # Extract page sizes\n",
        "    page_sizes = parsed_rdd.map(lambda x: x[3])  # x[3] is page size\n",
        "    \n",
        "    # MapReduce operations\n",
        "    min_size = page_sizes.min()\n",
        "    max_size = page_sizes.max()\n",
        "    \n",
        "    total_size = page_sizes.sum()\n",
        "    count = page_sizes.count()\n",
        "    avg_size = total_size / count if count > 0 else 0\n",
        "    \n",
        "    print(f\"Min Page Size: {min_size}\")\n",
        "    print(f\"Max Page Size: {max_size}\")\n",
        "    print(f\"Average Page Size: {avg_size:.2f}\")\n",
        "\n",
        "    \n",
        "# running function 1   \n",
        "function_1(parsed)"
      ]
    },
    {
      "cell_type": "code",
      "execution_count": null,
      "metadata": {},
      "outputs": [],
      "source": [
        "# Function_1 - Spark Loops"
      ]
    },
    {
      "cell_type": "code",
      "execution_count": null,
      "metadata": {},
      "outputs": [],
      "source": [
        "# Function_1 - Normal Loops"
      ]
    },
    {
      "cell_type": "markdown",
      "metadata": {
        "id": "sMLwH3nBa4DI"
      },
      "source": [
        "# ***Function 2: Count page titles starting with \"The\" not in English project***"
      ]
    },
    {
      "cell_type": "code",
      "execution_count": null,
      "metadata": {
        "colab": {
          "base_uri": "https://localhost:8080/"
        },
        "id": "FZRTT9mqa84A",
        "outputId": "eabe0b3e-ab9d-4872-8f86-4f26cfe3a682"
      },
      "outputs": [
        {
          "name": "stdout",
          "output_type": "stream",
          "text": [
            "Total titles starting with 'The': 45020\n",
            "Titles starting with 'The' NOT in English project: 10292\n"
          ]
        }
      ],
      "source": [
        "# Function_2 - Spark Map Reduce\n",
        "\n",
        "def function_2(parsed_rdd):\n",
        "    \n",
        "    titles_with_the = parsed_rdd.filter(lambda x: x[1].startswith(\"The\")) # x[1] is title\n",
        "    \n",
        "    count_titles_with_the = titles_with_the.count()\n",
        "    \n",
        "    non_english_titles_with_the = titles_with_the.filter(lambda x: x[0] != \"en\") # x[0] is project code\n",
        "    \n",
        "    # Count how many non-English titles start with \"The\"\n",
        "    count_non_english = non_english_titles_with_the.count()\n",
        "    \n",
        "    print(f\"Total titles starting with 'The': {count_titles_with_the}\")\n",
        "    print(f\"Titles starting with 'The' and NOT in English project: {count_non_english}\")\n",
        "    \n",
        "    \n",
        "# running function 2\n",
        "function_2(parsed)\n"
      ]
    },
    {
      "cell_type": "code",
      "execution_count": null,
      "metadata": {},
      "outputs": [],
      "source": [
        "# Function_2 - Spark Loops"
      ]
    },
    {
      "cell_type": "code",
      "execution_count": null,
      "metadata": {},
      "outputs": [],
      "source": [
        "# Function_2 - Normal Loops"
      ]
    },
    {
      "cell_type": "markdown",
      "metadata": {
        "id": "hRsUVR6ya9LQ"
      },
      "source": [
        "# ***Function 3: Count unique terms in page titles***"
      ]
    },
    {
      "cell_type": "code",
      "execution_count": null,
      "metadata": {
        "colab": {
          "base_uri": "https://localhost:8080/"
        },
        "id": "Rflk32-bbBi5",
        "outputId": "34b9ddc1-b784-4392-bcd5-f498bae4361a"
      },
      "outputs": [],
      "source": [
        "# Function_3 - Spark Map Reduce"
      ]
    },
    {
      "cell_type": "code",
      "execution_count": null,
      "metadata": {},
      "outputs": [],
      "source": [
        "# Function_3 - Spark Loops"
      ]
    },
    {
      "cell_type": "code",
      "execution_count": null,
      "metadata": {},
      "outputs": [],
      "source": [
        "# Function_3 - Normal Loops"
      ]
    },
    {
      "cell_type": "markdown",
      "metadata": {
        "id": "o0a7JSPobDHI"
      },
      "source": [
        "# ***Function 4: Extract title counts***"
      ]
    },
    {
      "cell_type": "code",
      "execution_count": null,
      "metadata": {
        "colab": {
          "base_uri": "https://localhost:8080/"
        },
        "id": "J5luedl8bBDZ",
        "outputId": "62df0acf-4acc-464e-897d-23ac3e627d82"
      },
      "outputs": [],
      "source": [
        "# Function_4 - Spark Map Reduce"
      ]
    },
    {
      "cell_type": "code",
      "execution_count": null,
      "metadata": {},
      "outputs": [],
      "source": [
        "# Function_4 - Spark Loops"
      ]
    },
    {
      "cell_type": "code",
      "execution_count": null,
      "metadata": {},
      "outputs": [],
      "source": [
        "# Function_4 - Normal Loops"
      ]
    },
    {
      "cell_type": "markdown",
      "metadata": {
        "id": "BfLJIKY-bEAA"
      },
      "source": [
        "# ***Function 5: Combine pages with same title***"
      ]
    },
    {
      "cell_type": "code",
      "execution_count": null,
      "metadata": {
        "colab": {
          "base_uri": "https://localhost:8080/"
        },
        "id": "_L08xcGvbEh5",
        "outputId": "c3347097-02d5-488d-8651-e701450020fa"
      },
      "outputs": [],
      "source": [
        "# Function_5 - Spark Map Reduce"
      ]
    },
    {
      "cell_type": "code",
      "execution_count": null,
      "metadata": {},
      "outputs": [],
      "source": [
        "# Function_5 - Spark Loops"
      ]
    },
    {
      "cell_type": "code",
      "execution_count": null,
      "metadata": {},
      "outputs": [],
      "source": [
        "# Function_5 - Normal Loops"
      ]
    },
    {
      "cell_type": "markdown",
      "metadata": {},
      "source": [
        "# ***End The Spark Session***"
      ]
    },
    {
      "cell_type": "code",
      "execution_count": 57,
      "metadata": {
        "id": "qQWO0XVpbnph"
      },
      "outputs": [],
      "source": [
        "# Stop Spark session\n",
        "sc.stop()"
      ]
    }
  ],
  "metadata": {
    "colab": {
      "provenance": []
    },
    "kernelspec": {
      "display_name": "Python 3",
      "name": "python3"
    },
    "language_info": {
      "codemirror_mode": {
        "name": "ipython",
        "version": 3
      },
      "file_extension": ".py",
      "mimetype": "text/x-python",
      "name": "python",
      "nbconvert_exporter": "python",
      "pygments_lexer": "ipython3",
      "version": "3.11.3"
    }
  },
  "nbformat": 4,
  "nbformat_minor": 0
}
